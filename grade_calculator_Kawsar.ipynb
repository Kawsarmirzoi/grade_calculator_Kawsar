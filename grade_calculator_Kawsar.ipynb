{
 "cells": [
  {
   "cell_type": "code",
   "execution_count": 1,
   "id": "888eaf6e-d8ba-4f80-ae8e-22fc5a29e243",
   "metadata": {},
   "outputs": [
    {
     "name": "stdout",
     "output_type": "stream",
     "text": [
      "Welcome to the Student Grade Calculator!\n",
      "Project by: Kawsar Mirzoi\n",
      "\n"
     ]
    },
    {
     "name": "stdin",
     "output_type": "stream",
     "text": [
      "Enter the number of students:  23\n"
     ]
    },
    {
     "name": "stdout",
     "output_type": "stream",
     "text": [
      "\n",
      "Student 1\n"
     ]
    },
    {
     "name": "stdin",
     "output_type": "stream",
     "text": [
      "Enter student name:  KHAN JAN\n",
      "Enter score (0-100):  96\n"
     ]
    },
    {
     "name": "stdout",
     "output_type": "stream",
     "text": [
      "KHAN JAN scored 96.0 and received a grade of A\n",
      "\n",
      "Student 2\n"
     ]
    },
    {
     "name": "stdin",
     "output_type": "stream",
     "text": [
      "Enter student name:  ALI KHAN\n",
      "Enter score (0-100):  94\n"
     ]
    },
    {
     "name": "stdout",
     "output_type": "stream",
     "text": [
      "ALI KHAN scored 94.0 and received a grade of A\n",
      "\n",
      "Student 3\n"
     ]
    },
    {
     "name": "stdin",
     "output_type": "stream",
     "text": [
      "Enter student name:  MOHAMMAD\n",
      "Enter score (0-100):  90\n"
     ]
    },
    {
     "name": "stdout",
     "output_type": "stream",
     "text": [
      "MOHAMMAD scored 90.0 and received a grade of A\n",
      "\n",
      "Student 4\n"
     ]
    },
    {
     "name": "stdin",
     "output_type": "stream",
     "text": [
      "Enter student name:  MOHAMMAD ALI\n",
      "Enter score (0-100):  89\n"
     ]
    },
    {
     "name": "stdout",
     "output_type": "stream",
     "text": [
      "MOHAMMAD ALI scored 89.0 and received a grade of B\n",
      "\n",
      "Student 5\n"
     ]
    },
    {
     "name": "stdin",
     "output_type": "stream",
     "text": [
      "Enter student name:  ISSA\n",
      "Enter score (0-100):  85\n"
     ]
    },
    {
     "name": "stdout",
     "output_type": "stream",
     "text": [
      "ISSA scored 85.0 and received a grade of B\n",
      "\n",
      "Student 6\n"
     ]
    },
    {
     "name": "stdin",
     "output_type": "stream",
     "text": [
      "Enter student name:  ABDUL\n",
      "Enter score (0-100):  84\n"
     ]
    },
    {
     "name": "stdout",
     "output_type": "stream",
     "text": [
      "ABDUL scored 84.0 and received a grade of B\n",
      "\n",
      "Student 7\n"
     ]
    },
    {
     "name": "stdin",
     "output_type": "stream",
     "text": [
      "Enter student name:  TAYAB\n",
      "Enter score (0-100):  83\n"
     ]
    },
    {
     "name": "stdout",
     "output_type": "stream",
     "text": [
      "TAYAB scored 83.0 and received a grade of B\n",
      "\n",
      "Student 8\n"
     ]
    },
    {
     "name": "stdin",
     "output_type": "stream",
     "text": [
      "Enter student name:  BAHIJ\n",
      "Enter score (0-100):  80\n"
     ]
    },
    {
     "name": "stdout",
     "output_type": "stream",
     "text": [
      "BAHIJ scored 80.0 and received a grade of B\n",
      "\n",
      "Student 9\n"
     ]
    },
    {
     "name": "stdin",
     "output_type": "stream",
     "text": [
      "Enter student name:  JAYLANI\n",
      "Enter score (0-100):  99\n"
     ]
    },
    {
     "name": "stdout",
     "output_type": "stream",
     "text": [
      "JAYLANI scored 99.0 and received a grade of A\n",
      "\n",
      "Student 10\n"
     ]
    },
    {
     "name": "stdin",
     "output_type": "stream",
     "text": [
      "Enter student name:  NABIYAT\n",
      "Enter score (0-100):  100\n"
     ]
    },
    {
     "name": "stdout",
     "output_type": "stream",
     "text": [
      "NABIYAT scored 100.0 and received a grade of A\n",
      "\n",
      "Student 11\n"
     ]
    },
    {
     "name": "stdin",
     "output_type": "stream",
     "text": [
      "Enter student name:  ASFAW\n",
      "Enter score (0-100):  75\n"
     ]
    },
    {
     "name": "stdout",
     "output_type": "stream",
     "text": [
      "ASFAW scored 75.0 and received a grade of C\n",
      "\n",
      "Student 12\n"
     ]
    },
    {
     "name": "stdin",
     "output_type": "stream",
     "text": [
      "Enter student name:  LANA\n",
      "Enter score (0-100):  87\n"
     ]
    },
    {
     "name": "stdout",
     "output_type": "stream",
     "text": [
      "LANA scored 87.0 and received a grade of B\n",
      "\n",
      "Student 13\n"
     ]
    },
    {
     "name": "stdin",
     "output_type": "stream",
     "text": [
      "Enter student name:  ASIA\n",
      "Enter score (0-100):  99\n"
     ]
    },
    {
     "name": "stdout",
     "output_type": "stream",
     "text": [
      "ASIA scored 99.0 and received a grade of A\n",
      "\n",
      "Student 14\n"
     ]
    },
    {
     "name": "stdin",
     "output_type": "stream",
     "text": [
      "Enter student name:  SHEIKH\n",
      "Enter score (0-100):  89\n"
     ]
    },
    {
     "name": "stdout",
     "output_type": "stream",
     "text": [
      "SHEIKH scored 89.0 and received a grade of B\n",
      "\n",
      "Student 15\n"
     ]
    },
    {
     "name": "stdin",
     "output_type": "stream",
     "text": [
      "Enter student name:  NAZO JAN\n",
      "Enter score (0-100):  100\n"
     ]
    },
    {
     "name": "stdout",
     "output_type": "stream",
     "text": [
      "NAZO JAN scored 100.0 and received a grade of A\n",
      "\n",
      "Student 16\n"
     ]
    },
    {
     "name": "stdin",
     "output_type": "stream",
     "text": [
      "Enter student name:  ZALLA JAN\n",
      "Enter score (0-100):  100\n"
     ]
    },
    {
     "name": "stdout",
     "output_type": "stream",
     "text": [
      "ZALLA JAN scored 100.0 and received a grade of A\n",
      "\n",
      "Student 17\n"
     ]
    },
    {
     "name": "stdin",
     "output_type": "stream",
     "text": [
      "Enter student name:  NAKHTAR\n",
      "Enter score (0-100):  475\n"
     ]
    },
    {
     "name": "stdout",
     "output_type": "stream",
     "text": [
      "NAKHTAR scored 475.0 and received a grade of A\n",
      "\n",
      "Student 18\n"
     ]
    },
    {
     "name": "stdin",
     "output_type": "stream",
     "text": [
      "Enter student name:  MEERA\n",
      "Enter score (0-100):  75\n"
     ]
    },
    {
     "name": "stdout",
     "output_type": "stream",
     "text": [
      "MEERA scored 75.0 and received a grade of C\n",
      "\n",
      "Student 19\n"
     ]
    },
    {
     "name": "stdin",
     "output_type": "stream",
     "text": [
      "Enter student name:  HEERA\n",
      "Enter score (0-100):  69\n"
     ]
    },
    {
     "name": "stdout",
     "output_type": "stream",
     "text": [
      "HEERA scored 69.0 and received a grade of D\n",
      "\n",
      "Student 20\n"
     ]
    },
    {
     "name": "stdin",
     "output_type": "stream",
     "text": [
      "Enter student name:  MEENA\n",
      "Enter score (0-100):  65\n"
     ]
    },
    {
     "name": "stdout",
     "output_type": "stream",
     "text": [
      "MEENA scored 65.0 and received a grade of D\n",
      "\n",
      "Student 21\n"
     ]
    },
    {
     "name": "stdin",
     "output_type": "stream",
     "text": [
      "Enter student name:  GROOTT\n",
      "Enter score (0-100):  60\n"
     ]
    },
    {
     "name": "stdout",
     "output_type": "stream",
     "text": [
      "GROOTT scored 60.0 and received a grade of D\n",
      "\n",
      "Student 22\n"
     ]
    },
    {
     "name": "stdin",
     "output_type": "stream",
     "text": [
      "Enter student name:  TOM\n",
      "Enter score (0-100):  59\n"
     ]
    },
    {
     "name": "stdout",
     "output_type": "stream",
     "text": [
      "TOM scored 59.0 and received a grade of F\n",
      "\n",
      "Student 23\n"
     ]
    },
    {
     "name": "stdin",
     "output_type": "stream",
     "text": [
      "Enter student name:  HEELA\n",
      "Enter score (0-100):  50\n"
     ]
    },
    {
     "name": "stdout",
     "output_type": "stream",
     "text": [
      "HEELA scored 50.0 and received a grade of F\n",
      "\n",
      "Thank you for using the Grade Calculator!\n",
      "Created by Kawsar Mirzoi 🚀\n"
     ]
    }
   ],
   "source": [
    "# Function to calculate letter grade based on score\n",
    "def calculate_grade(score):\n",
    "    if score >= 90:\n",
    "        return \"A\"\n",
    "    elif score >= 80:\n",
    "        return \"B\"\n",
    "    elif score >= 70:\n",
    "        return \"C\"\n",
    "    elif score >= 60:\n",
    "        return \"D\"\n",
    "    else:\n",
    "        return \"F\"\n",
    "\n",
    "# Main function to run the program\n",
    "def main():\n",
    "    print(\"Welcome to the Student Grade Calculator!\")\n",
    "    print(\"Project by: Kawsar Mirzoi\\n\")  # Your name here\n",
    "\n",
    "    num_students = int(input(\"Enter the number of students: \"))\n",
    "\n",
    "    for i in range(num_students):\n",
    "        print(f\"\\nStudent {i + 1}\")\n",
    "        name = input(\"Enter student name: \")\n",
    "        score = float(input(\"Enter score (0-100): \"))\n",
    "\n",
    "        grade = calculate_grade(score)\n",
    "        print(f\"{name} scored {score} and received a grade of {grade}\")\n",
    "\n",
    "    print(\"\\nThank you for using the Grade Calculator!\")\n",
    "    print(\"Created by Kawsar Mirzoi 🚀\")\n",
    "\n",
    "# Run the main function\n",
    "main()\n"
   ]
  },
  {
   "cell_type": "code",
   "execution_count": null,
   "id": "e73834ea-fcaf-4729-a4bc-db0a37c8b69b",
   "metadata": {},
   "outputs": [],
   "source": []
  }
 ],
 "metadata": {
  "kernelspec": {
   "display_name": "Python 3 (ipykernel)",
   "language": "python",
   "name": "python3"
  },
  "language_info": {
   "codemirror_mode": {
    "name": "ipython",
    "version": 3
   },
   "file_extension": ".py",
   "mimetype": "text/x-python",
   "name": "python",
   "nbconvert_exporter": "python",
   "pygments_lexer": "ipython3",
   "version": "3.13.5"
  }
 },
 "nbformat": 4,
 "nbformat_minor": 5
}
